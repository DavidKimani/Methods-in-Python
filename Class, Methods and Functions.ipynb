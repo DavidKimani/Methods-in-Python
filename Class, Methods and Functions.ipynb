{
 "cells": [
  {
   "cell_type": "markdown",
   "metadata": {},
   "source": [
    "#### Classes"
   ]
  },
  {
   "cell_type": "code",
   "execution_count": 2,
   "metadata": {},
   "outputs": [
    {
     "name": "stdout",
     "output_type": "stream",
     "text": [
      "5\n"
     ]
    }
   ],
   "source": [
    "class Myclass:\n",
    "    x=5\n",
    "\n",
    "p1 = Myclass()\n",
    "print(p1.x)"
   ]
  },
  {
   "cell_type": "code",
   "execution_count": 3,
   "metadata": {},
   "outputs": [
    {
     "name": "stdout",
     "output_type": "stream",
     "text": [
      "John\n",
      "36\n"
     ]
    }
   ],
   "source": [
    "class Person:\n",
    "  def __init__(self, name, age):\n",
    "    self.name = name\n",
    "    self.age = age\n",
    "\n",
    "p1 = Person(\"John\", 36)\n",
    "\n",
    "print(p1.name)\n",
    "print(p1.age)"
   ]
  },
  {
   "cell_type": "code",
   "execution_count": 52,
   "metadata": {},
   "outputs": [
    {
     "name": "stdout",
     "output_type": "stream",
     "text": [
      "Hello my name is John and I am 36\n"
     ]
    }
   ],
   "source": [
    "class Person:\n",
    "  def __init__(self, name, age):\n",
    "    self.name = name\n",
    "    self.age = age\n",
    "\n",
    "  def myfunc(self):\n",
    "    print(\"Hello my name is \" + self.name + \" and I am \" + str(self.age))\n",
    "\n",
    "p1 = Person(\"John\", 36)\n",
    "p1.myfunc()"
   ]
  },
  {
   "cell_type": "code",
   "execution_count": 55,
   "metadata": {},
   "outputs": [
    {
     "name": "stdout",
     "output_type": "stream",
     "text": [
      "17\n",
      "63\n"
     ]
    }
   ],
   "source": [
    "### Triangle Problem\n",
    "class Triangle:\n",
    "    def __init__(self, s1, s2, s3):\n",
    "        self.s1 = s1\n",
    "        self.s2 = s2\n",
    "        self.s3 = s3\n",
    "        \n",
    "    def per(self):\n",
    "        perimeter = self.s1 + self.s2 + self.s3\n",
    "        \n",
    "        return perimeter\n",
    "    \n",
    "    \n",
    "\n",
    "t1 = Triangle(5,7,5)\n",
    "\n",
    "perimeter = t1.per()\n",
    "print(perimeter)\n",
    "\n",
    "t2 = Triangle(16, 30, 17)\n",
    "perimeter = t2.per()\n",
    "print(perimeter)\n",
    "    \n"
   ]
  },
  {
   "cell_type": "code",
   "execution_count": 63,
   "metadata": {},
   "outputs": [
    {
     "ename": "SyntaxError",
     "evalue": "invalid syntax (<ipython-input-63-0c459776f96a>, line 13)",
     "output_type": "error",
     "traceback": [
      "\u001b[1;36m  File \u001b[1;32m\"<ipython-input-63-0c459776f96a>\"\u001b[1;36m, line \u001b[1;32m13\u001b[0m\n\u001b[1;33m    if(for i in b == for i in c):\u001b[0m\n\u001b[1;37m       ^\u001b[0m\n\u001b[1;31mSyntaxError\u001b[0m\u001b[1;31m:\u001b[0m invalid syntax\n"
     ]
    }
   ],
   "source": [
    "a = \"Derrick\"\n",
    "\n",
    "b =[i for i in a]\n",
    "\n",
    "print(b)\n",
    "\n",
    "b.reverse()\n",
    "\n",
    "c = b\n",
    "\n",
    "print(c)\n",
    "\n",
    "if(for i in b == for i in c):\n",
    "    print(True)\n",
    "else:\n",
    "    print(False)"
   ]
  },
  {
   "cell_type": "code",
   "execution_count": 65,
   "metadata": {},
   "outputs": [
    {
     "name": "stdout",
     "output_type": "stream",
     "text": [
      "<class 'dict'>\n",
      "home1\n",
      "Father : John\n",
      "Mother : Mary\n",
      "Son : Abby\n",
      "home2\n",
      "Father : Dan\n",
      "Mother : Jane\n",
      "Son : Gift\n"
     ]
    }
   ],
   "source": [
    "parents = {\"home1\": {\n",
    "   \"Father\": \"John\",\n",
    "    \"Mother\": \"Mary\",\n",
    "    \"Son\": \"Abby\"},\n",
    "           \n",
    "           \"home2\": {\n",
    "   \"Father\": \"Dan\",\n",
    "    \"Mother\": \"Jane\",\n",
    "    \"Son\": \"Gift\"}}\n",
    "\n",
    "\n",
    "parents = {\"home1\" : {\n",
    "   \"Father\": \"John\",\n",
    "    \"Mother\": \"Mary\",\n",
    "    \"Son\": \"Abby\"},\n",
    "           \"home2\": {\n",
    "   \"Father\": \"Dan\",\n",
    "    \"Mother\": \"Jane\",\n",
    "    \"Son\": \"Gift\"}}\n",
    "\n",
    "\n",
    "home1\n",
    "\n",
    "print(type(parents))\n",
    "\n",
    "for parent, member in parents.items():\n",
    "    print(parent)\n",
    "    for individual in member:\n",
    "        print(individual + \" : \" + member[individual])"
   ]
  },
  {
   "cell_type": "code",
   "execution_count": null,
   "metadata": {},
   "outputs": [],
   "source": []
  }
 ],
 "metadata": {
  "kernelspec": {
   "display_name": "Python 3",
   "language": "python",
   "name": "python3"
  },
  "language_info": {
   "codemirror_mode": {
    "name": "ipython",
    "version": 3
   },
   "file_extension": ".py",
   "mimetype": "text/x-python",
   "name": "python",
   "nbconvert_exporter": "python",
   "pygments_lexer": "ipython3",
   "version": "3.8.5"
  }
 },
 "nbformat": 4,
 "nbformat_minor": 4
}
